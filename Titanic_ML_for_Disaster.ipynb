{
  "nbformat": 4,
  "nbformat_minor": 0,
  "metadata": {
    "colab": {
      "provenance": [],
      "authorship_tag": "ABX9TyOX//eCWiBnWNYyMGmiPE1M",
      "include_colab_link": true
    },
    "kernelspec": {
      "name": "python3",
      "display_name": "Python 3"
    },
    "language_info": {
      "name": "python"
    }
  },
  "cells": [
    {
      "cell_type": "markdown",
      "metadata": {
        "id": "view-in-github",
        "colab_type": "text"
      },
      "source": [
        "<a href=\"https://colab.research.google.com/github/gabriellfelipe7/Titanic_MLforDisaster/blob/main/Titanic_ML_for_Disaster.ipynb\" target=\"_parent\"><img src=\"https://colab.research.google.com/assets/colab-badge.svg\" alt=\"Open In Colab\"/></a>"
      ]
    },
    {
      "cell_type": "markdown",
      "source": [
        "#**Titanic - ML for Disaster**\n",
        "- Gabriel Felipe Machado de Oliveira\n",
        "- Abril de 2023"
      ],
      "metadata": {
        "id": "abgxVpfWz3Rv"
      }
    },
    {
      "cell_type": "code",
      "source": [
        "import pandas as pd\n",
        "import matplotlib.pyplot as plt\n",
        "import seaborn as sns\n",
        "import numpy as np\n",
        "import statsmodels.api as sm\n",
        "from sklearn.linear_model import LogisticRegression\n",
        "from sklearn.model_selection import train_test_split\n",
        "from sklearn.preprocessing import StandardScaler"
      ],
      "metadata": {
        "id": "bnboD8jzzy38"
      },
      "execution_count": 70,
      "outputs": []
    },
    {
      "cell_type": "markdown",
      "source": [
        "##**Importação e visualização dos dados**"
      ],
      "metadata": {
        "id": "yl8JRm0x3yUu"
      }
    },
    {
      "cell_type": "code",
      "execution_count": 2,
      "metadata": {
        "id": "DQ8-q58MzkQH"
      },
      "outputs": [],
      "source": [
        "data_train = pd.read_csv('train.csv')\n",
        "data_test = pd.read_csv('test.csv')"
      ]
    },
    {
      "cell_type": "code",
      "source": [
        "display(data_train)"
      ],
      "metadata": {
        "colab": {
          "base_uri": "https://localhost:8080/",
          "height": 423
        },
        "id": "K0rDoR320KT8",
        "outputId": "6da78459-c1b8-498e-fa8a-a55107d45d29"
      },
      "execution_count": 3,
      "outputs": [
        {
          "output_type": "display_data",
          "data": {
            "text/plain": [
              "     PassengerId  Survived  Pclass  \\\n",
              "0              1         0       3   \n",
              "1              2         1       1   \n",
              "2              3         1       3   \n",
              "3              4         1       1   \n",
              "4              5         0       3   \n",
              "..           ...       ...     ...   \n",
              "886          887         0       2   \n",
              "887          888         1       1   \n",
              "888          889         0       3   \n",
              "889          890         1       1   \n",
              "890          891         0       3   \n",
              "\n",
              "                                                  Name     Sex   Age  SibSp  \\\n",
              "0                              Braund, Mr. Owen Harris    male  22.0      1   \n",
              "1    Cumings, Mrs. John Bradley (Florence Briggs Th...  female  38.0      1   \n",
              "2                               Heikkinen, Miss. Laina  female  26.0      0   \n",
              "3         Futrelle, Mrs. Jacques Heath (Lily May Peel)  female  35.0      1   \n",
              "4                             Allen, Mr. William Henry    male  35.0      0   \n",
              "..                                                 ...     ...   ...    ...   \n",
              "886                              Montvila, Rev. Juozas    male  27.0      0   \n",
              "887                       Graham, Miss. Margaret Edith  female  19.0      0   \n",
              "888           Johnston, Miss. Catherine Helen \"Carrie\"  female   NaN      1   \n",
              "889                              Behr, Mr. Karl Howell    male  26.0      0   \n",
              "890                                Dooley, Mr. Patrick    male  32.0      0   \n",
              "\n",
              "     Parch            Ticket     Fare Cabin Embarked  \n",
              "0        0         A/5 21171   7.2500   NaN        S  \n",
              "1        0          PC 17599  71.2833   C85        C  \n",
              "2        0  STON/O2. 3101282   7.9250   NaN        S  \n",
              "3        0            113803  53.1000  C123        S  \n",
              "4        0            373450   8.0500   NaN        S  \n",
              "..     ...               ...      ...   ...      ...  \n",
              "886      0            211536  13.0000   NaN        S  \n",
              "887      0            112053  30.0000   B42        S  \n",
              "888      2        W./C. 6607  23.4500   NaN        S  \n",
              "889      0            111369  30.0000  C148        C  \n",
              "890      0            370376   7.7500   NaN        Q  \n",
              "\n",
              "[891 rows x 12 columns]"
            ],
            "text/html": [
              "\n",
              "  <div id=\"df-9e8ebc14-9f5a-438e-934e-b8601155a357\">\n",
              "    <div class=\"colab-df-container\">\n",
              "      <div>\n",
              "<style scoped>\n",
              "    .dataframe tbody tr th:only-of-type {\n",
              "        vertical-align: middle;\n",
              "    }\n",
              "\n",
              "    .dataframe tbody tr th {\n",
              "        vertical-align: top;\n",
              "    }\n",
              "\n",
              "    .dataframe thead th {\n",
              "        text-align: right;\n",
              "    }\n",
              "</style>\n",
              "<table border=\"1\" class=\"dataframe\">\n",
              "  <thead>\n",
              "    <tr style=\"text-align: right;\">\n",
              "      <th></th>\n",
              "      <th>PassengerId</th>\n",
              "      <th>Survived</th>\n",
              "      <th>Pclass</th>\n",
              "      <th>Name</th>\n",
              "      <th>Sex</th>\n",
              "      <th>Age</th>\n",
              "      <th>SibSp</th>\n",
              "      <th>Parch</th>\n",
              "      <th>Ticket</th>\n",
              "      <th>Fare</th>\n",
              "      <th>Cabin</th>\n",
              "      <th>Embarked</th>\n",
              "    </tr>\n",
              "  </thead>\n",
              "  <tbody>\n",
              "    <tr>\n",
              "      <th>0</th>\n",
              "      <td>1</td>\n",
              "      <td>0</td>\n",
              "      <td>3</td>\n",
              "      <td>Braund, Mr. Owen Harris</td>\n",
              "      <td>male</td>\n",
              "      <td>22.0</td>\n",
              "      <td>1</td>\n",
              "      <td>0</td>\n",
              "      <td>A/5 21171</td>\n",
              "      <td>7.2500</td>\n",
              "      <td>NaN</td>\n",
              "      <td>S</td>\n",
              "    </tr>\n",
              "    <tr>\n",
              "      <th>1</th>\n",
              "      <td>2</td>\n",
              "      <td>1</td>\n",
              "      <td>1</td>\n",
              "      <td>Cumings, Mrs. John Bradley (Florence Briggs Th...</td>\n",
              "      <td>female</td>\n",
              "      <td>38.0</td>\n",
              "      <td>1</td>\n",
              "      <td>0</td>\n",
              "      <td>PC 17599</td>\n",
              "      <td>71.2833</td>\n",
              "      <td>C85</td>\n",
              "      <td>C</td>\n",
              "    </tr>\n",
              "    <tr>\n",
              "      <th>2</th>\n",
              "      <td>3</td>\n",
              "      <td>1</td>\n",
              "      <td>3</td>\n",
              "      <td>Heikkinen, Miss. Laina</td>\n",
              "      <td>female</td>\n",
              "      <td>26.0</td>\n",
              "      <td>0</td>\n",
              "      <td>0</td>\n",
              "      <td>STON/O2. 3101282</td>\n",
              "      <td>7.9250</td>\n",
              "      <td>NaN</td>\n",
              "      <td>S</td>\n",
              "    </tr>\n",
              "    <tr>\n",
              "      <th>3</th>\n",
              "      <td>4</td>\n",
              "      <td>1</td>\n",
              "      <td>1</td>\n",
              "      <td>Futrelle, Mrs. Jacques Heath (Lily May Peel)</td>\n",
              "      <td>female</td>\n",
              "      <td>35.0</td>\n",
              "      <td>1</td>\n",
              "      <td>0</td>\n",
              "      <td>113803</td>\n",
              "      <td>53.1000</td>\n",
              "      <td>C123</td>\n",
              "      <td>S</td>\n",
              "    </tr>\n",
              "    <tr>\n",
              "      <th>4</th>\n",
              "      <td>5</td>\n",
              "      <td>0</td>\n",
              "      <td>3</td>\n",
              "      <td>Allen, Mr. William Henry</td>\n",
              "      <td>male</td>\n",
              "      <td>35.0</td>\n",
              "      <td>0</td>\n",
              "      <td>0</td>\n",
              "      <td>373450</td>\n",
              "      <td>8.0500</td>\n",
              "      <td>NaN</td>\n",
              "      <td>S</td>\n",
              "    </tr>\n",
              "    <tr>\n",
              "      <th>...</th>\n",
              "      <td>...</td>\n",
              "      <td>...</td>\n",
              "      <td>...</td>\n",
              "      <td>...</td>\n",
              "      <td>...</td>\n",
              "      <td>...</td>\n",
              "      <td>...</td>\n",
              "      <td>...</td>\n",
              "      <td>...</td>\n",
              "      <td>...</td>\n",
              "      <td>...</td>\n",
              "      <td>...</td>\n",
              "    </tr>\n",
              "    <tr>\n",
              "      <th>886</th>\n",
              "      <td>887</td>\n",
              "      <td>0</td>\n",
              "      <td>2</td>\n",
              "      <td>Montvila, Rev. Juozas</td>\n",
              "      <td>male</td>\n",
              "      <td>27.0</td>\n",
              "      <td>0</td>\n",
              "      <td>0</td>\n",
              "      <td>211536</td>\n",
              "      <td>13.0000</td>\n",
              "      <td>NaN</td>\n",
              "      <td>S</td>\n",
              "    </tr>\n",
              "    <tr>\n",
              "      <th>887</th>\n",
              "      <td>888</td>\n",
              "      <td>1</td>\n",
              "      <td>1</td>\n",
              "      <td>Graham, Miss. Margaret Edith</td>\n",
              "      <td>female</td>\n",
              "      <td>19.0</td>\n",
              "      <td>0</td>\n",
              "      <td>0</td>\n",
              "      <td>112053</td>\n",
              "      <td>30.0000</td>\n",
              "      <td>B42</td>\n",
              "      <td>S</td>\n",
              "    </tr>\n",
              "    <tr>\n",
              "      <th>888</th>\n",
              "      <td>889</td>\n",
              "      <td>0</td>\n",
              "      <td>3</td>\n",
              "      <td>Johnston, Miss. Catherine Helen \"Carrie\"</td>\n",
              "      <td>female</td>\n",
              "      <td>NaN</td>\n",
              "      <td>1</td>\n",
              "      <td>2</td>\n",
              "      <td>W./C. 6607</td>\n",
              "      <td>23.4500</td>\n",
              "      <td>NaN</td>\n",
              "      <td>S</td>\n",
              "    </tr>\n",
              "    <tr>\n",
              "      <th>889</th>\n",
              "      <td>890</td>\n",
              "      <td>1</td>\n",
              "      <td>1</td>\n",
              "      <td>Behr, Mr. Karl Howell</td>\n",
              "      <td>male</td>\n",
              "      <td>26.0</td>\n",
              "      <td>0</td>\n",
              "      <td>0</td>\n",
              "      <td>111369</td>\n",
              "      <td>30.0000</td>\n",
              "      <td>C148</td>\n",
              "      <td>C</td>\n",
              "    </tr>\n",
              "    <tr>\n",
              "      <th>890</th>\n",
              "      <td>891</td>\n",
              "      <td>0</td>\n",
              "      <td>3</td>\n",
              "      <td>Dooley, Mr. Patrick</td>\n",
              "      <td>male</td>\n",
              "      <td>32.0</td>\n",
              "      <td>0</td>\n",
              "      <td>0</td>\n",
              "      <td>370376</td>\n",
              "      <td>7.7500</td>\n",
              "      <td>NaN</td>\n",
              "      <td>Q</td>\n",
              "    </tr>\n",
              "  </tbody>\n",
              "</table>\n",
              "<p>891 rows × 12 columns</p>\n",
              "</div>\n",
              "      <button class=\"colab-df-convert\" onclick=\"convertToInteractive('df-9e8ebc14-9f5a-438e-934e-b8601155a357')\"\n",
              "              title=\"Convert this dataframe to an interactive table.\"\n",
              "              style=\"display:none;\">\n",
              "        \n",
              "  <svg xmlns=\"http://www.w3.org/2000/svg\" height=\"24px\"viewBox=\"0 0 24 24\"\n",
              "       width=\"24px\">\n",
              "    <path d=\"M0 0h24v24H0V0z\" fill=\"none\"/>\n",
              "    <path d=\"M18.56 5.44l.94 2.06.94-2.06 2.06-.94-2.06-.94-.94-2.06-.94 2.06-2.06.94zm-11 1L8.5 8.5l.94-2.06 2.06-.94-2.06-.94L8.5 2.5l-.94 2.06-2.06.94zm10 10l.94 2.06.94-2.06 2.06-.94-2.06-.94-.94-2.06-.94 2.06-2.06.94z\"/><path d=\"M17.41 7.96l-1.37-1.37c-.4-.4-.92-.59-1.43-.59-.52 0-1.04.2-1.43.59L10.3 9.45l-7.72 7.72c-.78.78-.78 2.05 0 2.83L4 21.41c.39.39.9.59 1.41.59.51 0 1.02-.2 1.41-.59l7.78-7.78 2.81-2.81c.8-.78.8-2.07 0-2.86zM5.41 20L4 18.59l7.72-7.72 1.47 1.35L5.41 20z\"/>\n",
              "  </svg>\n",
              "      </button>\n",
              "      \n",
              "  <style>\n",
              "    .colab-df-container {\n",
              "      display:flex;\n",
              "      flex-wrap:wrap;\n",
              "      gap: 12px;\n",
              "    }\n",
              "\n",
              "    .colab-df-convert {\n",
              "      background-color: #E8F0FE;\n",
              "      border: none;\n",
              "      border-radius: 50%;\n",
              "      cursor: pointer;\n",
              "      display: none;\n",
              "      fill: #1967D2;\n",
              "      height: 32px;\n",
              "      padding: 0 0 0 0;\n",
              "      width: 32px;\n",
              "    }\n",
              "\n",
              "    .colab-df-convert:hover {\n",
              "      background-color: #E2EBFA;\n",
              "      box-shadow: 0px 1px 2px rgba(60, 64, 67, 0.3), 0px 1px 3px 1px rgba(60, 64, 67, 0.15);\n",
              "      fill: #174EA6;\n",
              "    }\n",
              "\n",
              "    [theme=dark] .colab-df-convert {\n",
              "      background-color: #3B4455;\n",
              "      fill: #D2E3FC;\n",
              "    }\n",
              "\n",
              "    [theme=dark] .colab-df-convert:hover {\n",
              "      background-color: #434B5C;\n",
              "      box-shadow: 0px 1px 3px 1px rgba(0, 0, 0, 0.15);\n",
              "      filter: drop-shadow(0px 1px 2px rgba(0, 0, 0, 0.3));\n",
              "      fill: #FFFFFF;\n",
              "    }\n",
              "  </style>\n",
              "\n",
              "      <script>\n",
              "        const buttonEl =\n",
              "          document.querySelector('#df-9e8ebc14-9f5a-438e-934e-b8601155a357 button.colab-df-convert');\n",
              "        buttonEl.style.display =\n",
              "          google.colab.kernel.accessAllowed ? 'block' : 'none';\n",
              "\n",
              "        async function convertToInteractive(key) {\n",
              "          const element = document.querySelector('#df-9e8ebc14-9f5a-438e-934e-b8601155a357');\n",
              "          const dataTable =\n",
              "            await google.colab.kernel.invokeFunction('convertToInteractive',\n",
              "                                                     [key], {});\n",
              "          if (!dataTable) return;\n",
              "\n",
              "          const docLinkHtml = 'Like what you see? Visit the ' +\n",
              "            '<a target=\"_blank\" href=https://colab.research.google.com/notebooks/data_table.ipynb>data table notebook</a>'\n",
              "            + ' to learn more about interactive tables.';\n",
              "          element.innerHTML = '';\n",
              "          dataTable['output_type'] = 'display_data';\n",
              "          await google.colab.output.renderOutput(dataTable, element);\n",
              "          const docLink = document.createElement('div');\n",
              "          docLink.innerHTML = docLinkHtml;\n",
              "          element.appendChild(docLink);\n",
              "        }\n",
              "      </script>\n",
              "    </div>\n",
              "  </div>\n",
              "  "
            ]
          },
          "metadata": {}
        }
      ]
    },
    {
      "cell_type": "code",
      "source": [
        "#Informações das estruturas de nossas variáveis\n",
        "data_train.info()"
      ],
      "metadata": {
        "colab": {
          "base_uri": "https://localhost:8080/"
        },
        "id": "uzlPpl1Q0M_4",
        "outputId": "c64b0647-99ef-4059-b7ba-78119e3e0d47"
      },
      "execution_count": 4,
      "outputs": [
        {
          "output_type": "stream",
          "name": "stdout",
          "text": [
            "<class 'pandas.core.frame.DataFrame'>\n",
            "RangeIndex: 891 entries, 0 to 890\n",
            "Data columns (total 12 columns):\n",
            " #   Column       Non-Null Count  Dtype  \n",
            "---  ------       --------------  -----  \n",
            " 0   PassengerId  891 non-null    int64  \n",
            " 1   Survived     891 non-null    int64  \n",
            " 2   Pclass       891 non-null    int64  \n",
            " 3   Name         891 non-null    object \n",
            " 4   Sex          891 non-null    object \n",
            " 5   Age          714 non-null    float64\n",
            " 6   SibSp        891 non-null    int64  \n",
            " 7   Parch        891 non-null    int64  \n",
            " 8   Ticket       891 non-null    object \n",
            " 9   Fare         891 non-null    float64\n",
            " 10  Cabin        204 non-null    object \n",
            " 11  Embarked     889 non-null    object \n",
            "dtypes: float64(2), int64(5), object(5)\n",
            "memory usage: 83.7+ KB\n"
          ]
        }
      ]
    },
    {
      "cell_type": "code",
      "source": [
        "#Resumo estatístico\n",
        "data_train.describe()"
      ],
      "metadata": {
        "colab": {
          "base_uri": "https://localhost:8080/",
          "height": 300
        },
        "id": "gY-4DpGb36fF",
        "outputId": "f4d16049-e160-4474-ce44-f1e943cbde82"
      },
      "execution_count": 5,
      "outputs": [
        {
          "output_type": "execute_result",
          "data": {
            "text/plain": [
              "       PassengerId    Survived      Pclass         Age       SibSp  \\\n",
              "count   891.000000  891.000000  891.000000  714.000000  891.000000   \n",
              "mean    446.000000    0.383838    2.308642   29.699118    0.523008   \n",
              "std     257.353842    0.486592    0.836071   14.526497    1.102743   \n",
              "min       1.000000    0.000000    1.000000    0.420000    0.000000   \n",
              "25%     223.500000    0.000000    2.000000   20.125000    0.000000   \n",
              "50%     446.000000    0.000000    3.000000   28.000000    0.000000   \n",
              "75%     668.500000    1.000000    3.000000   38.000000    1.000000   \n",
              "max     891.000000    1.000000    3.000000   80.000000    8.000000   \n",
              "\n",
              "            Parch        Fare  \n",
              "count  891.000000  891.000000  \n",
              "mean     0.381594   32.204208  \n",
              "std      0.806057   49.693429  \n",
              "min      0.000000    0.000000  \n",
              "25%      0.000000    7.910400  \n",
              "50%      0.000000   14.454200  \n",
              "75%      0.000000   31.000000  \n",
              "max      6.000000  512.329200  "
            ],
            "text/html": [
              "\n",
              "  <div id=\"df-834ade2e-6c0b-4128-95bd-d5fa8957116f\">\n",
              "    <div class=\"colab-df-container\">\n",
              "      <div>\n",
              "<style scoped>\n",
              "    .dataframe tbody tr th:only-of-type {\n",
              "        vertical-align: middle;\n",
              "    }\n",
              "\n",
              "    .dataframe tbody tr th {\n",
              "        vertical-align: top;\n",
              "    }\n",
              "\n",
              "    .dataframe thead th {\n",
              "        text-align: right;\n",
              "    }\n",
              "</style>\n",
              "<table border=\"1\" class=\"dataframe\">\n",
              "  <thead>\n",
              "    <tr style=\"text-align: right;\">\n",
              "      <th></th>\n",
              "      <th>PassengerId</th>\n",
              "      <th>Survived</th>\n",
              "      <th>Pclass</th>\n",
              "      <th>Age</th>\n",
              "      <th>SibSp</th>\n",
              "      <th>Parch</th>\n",
              "      <th>Fare</th>\n",
              "    </tr>\n",
              "  </thead>\n",
              "  <tbody>\n",
              "    <tr>\n",
              "      <th>count</th>\n",
              "      <td>891.000000</td>\n",
              "      <td>891.000000</td>\n",
              "      <td>891.000000</td>\n",
              "      <td>714.000000</td>\n",
              "      <td>891.000000</td>\n",
              "      <td>891.000000</td>\n",
              "      <td>891.000000</td>\n",
              "    </tr>\n",
              "    <tr>\n",
              "      <th>mean</th>\n",
              "      <td>446.000000</td>\n",
              "      <td>0.383838</td>\n",
              "      <td>2.308642</td>\n",
              "      <td>29.699118</td>\n",
              "      <td>0.523008</td>\n",
              "      <td>0.381594</td>\n",
              "      <td>32.204208</td>\n",
              "    </tr>\n",
              "    <tr>\n",
              "      <th>std</th>\n",
              "      <td>257.353842</td>\n",
              "      <td>0.486592</td>\n",
              "      <td>0.836071</td>\n",
              "      <td>14.526497</td>\n",
              "      <td>1.102743</td>\n",
              "      <td>0.806057</td>\n",
              "      <td>49.693429</td>\n",
              "    </tr>\n",
              "    <tr>\n",
              "      <th>min</th>\n",
              "      <td>1.000000</td>\n",
              "      <td>0.000000</td>\n",
              "      <td>1.000000</td>\n",
              "      <td>0.420000</td>\n",
              "      <td>0.000000</td>\n",
              "      <td>0.000000</td>\n",
              "      <td>0.000000</td>\n",
              "    </tr>\n",
              "    <tr>\n",
              "      <th>25%</th>\n",
              "      <td>223.500000</td>\n",
              "      <td>0.000000</td>\n",
              "      <td>2.000000</td>\n",
              "      <td>20.125000</td>\n",
              "      <td>0.000000</td>\n",
              "      <td>0.000000</td>\n",
              "      <td>7.910400</td>\n",
              "    </tr>\n",
              "    <tr>\n",
              "      <th>50%</th>\n",
              "      <td>446.000000</td>\n",
              "      <td>0.000000</td>\n",
              "      <td>3.000000</td>\n",
              "      <td>28.000000</td>\n",
              "      <td>0.000000</td>\n",
              "      <td>0.000000</td>\n",
              "      <td>14.454200</td>\n",
              "    </tr>\n",
              "    <tr>\n",
              "      <th>75%</th>\n",
              "      <td>668.500000</td>\n",
              "      <td>1.000000</td>\n",
              "      <td>3.000000</td>\n",
              "      <td>38.000000</td>\n",
              "      <td>1.000000</td>\n",
              "      <td>0.000000</td>\n",
              "      <td>31.000000</td>\n",
              "    </tr>\n",
              "    <tr>\n",
              "      <th>max</th>\n",
              "      <td>891.000000</td>\n",
              "      <td>1.000000</td>\n",
              "      <td>3.000000</td>\n",
              "      <td>80.000000</td>\n",
              "      <td>8.000000</td>\n",
              "      <td>6.000000</td>\n",
              "      <td>512.329200</td>\n",
              "    </tr>\n",
              "  </tbody>\n",
              "</table>\n",
              "</div>\n",
              "      <button class=\"colab-df-convert\" onclick=\"convertToInteractive('df-834ade2e-6c0b-4128-95bd-d5fa8957116f')\"\n",
              "              title=\"Convert this dataframe to an interactive table.\"\n",
              "              style=\"display:none;\">\n",
              "        \n",
              "  <svg xmlns=\"http://www.w3.org/2000/svg\" height=\"24px\"viewBox=\"0 0 24 24\"\n",
              "       width=\"24px\">\n",
              "    <path d=\"M0 0h24v24H0V0z\" fill=\"none\"/>\n",
              "    <path d=\"M18.56 5.44l.94 2.06.94-2.06 2.06-.94-2.06-.94-.94-2.06-.94 2.06-2.06.94zm-11 1L8.5 8.5l.94-2.06 2.06-.94-2.06-.94L8.5 2.5l-.94 2.06-2.06.94zm10 10l.94 2.06.94-2.06 2.06-.94-2.06-.94-.94-2.06-.94 2.06-2.06.94z\"/><path d=\"M17.41 7.96l-1.37-1.37c-.4-.4-.92-.59-1.43-.59-.52 0-1.04.2-1.43.59L10.3 9.45l-7.72 7.72c-.78.78-.78 2.05 0 2.83L4 21.41c.39.39.9.59 1.41.59.51 0 1.02-.2 1.41-.59l7.78-7.78 2.81-2.81c.8-.78.8-2.07 0-2.86zM5.41 20L4 18.59l7.72-7.72 1.47 1.35L5.41 20z\"/>\n",
              "  </svg>\n",
              "      </button>\n",
              "      \n",
              "  <style>\n",
              "    .colab-df-container {\n",
              "      display:flex;\n",
              "      flex-wrap:wrap;\n",
              "      gap: 12px;\n",
              "    }\n",
              "\n",
              "    .colab-df-convert {\n",
              "      background-color: #E8F0FE;\n",
              "      border: none;\n",
              "      border-radius: 50%;\n",
              "      cursor: pointer;\n",
              "      display: none;\n",
              "      fill: #1967D2;\n",
              "      height: 32px;\n",
              "      padding: 0 0 0 0;\n",
              "      width: 32px;\n",
              "    }\n",
              "\n",
              "    .colab-df-convert:hover {\n",
              "      background-color: #E2EBFA;\n",
              "      box-shadow: 0px 1px 2px rgba(60, 64, 67, 0.3), 0px 1px 3px 1px rgba(60, 64, 67, 0.15);\n",
              "      fill: #174EA6;\n",
              "    }\n",
              "\n",
              "    [theme=dark] .colab-df-convert {\n",
              "      background-color: #3B4455;\n",
              "      fill: #D2E3FC;\n",
              "    }\n",
              "\n",
              "    [theme=dark] .colab-df-convert:hover {\n",
              "      background-color: #434B5C;\n",
              "      box-shadow: 0px 1px 3px 1px rgba(0, 0, 0, 0.15);\n",
              "      filter: drop-shadow(0px 1px 2px rgba(0, 0, 0, 0.3));\n",
              "      fill: #FFFFFF;\n",
              "    }\n",
              "  </style>\n",
              "\n",
              "      <script>\n",
              "        const buttonEl =\n",
              "          document.querySelector('#df-834ade2e-6c0b-4128-95bd-d5fa8957116f button.colab-df-convert');\n",
              "        buttonEl.style.display =\n",
              "          google.colab.kernel.accessAllowed ? 'block' : 'none';\n",
              "\n",
              "        async function convertToInteractive(key) {\n",
              "          const element = document.querySelector('#df-834ade2e-6c0b-4128-95bd-d5fa8957116f');\n",
              "          const dataTable =\n",
              "            await google.colab.kernel.invokeFunction('convertToInteractive',\n",
              "                                                     [key], {});\n",
              "          if (!dataTable) return;\n",
              "\n",
              "          const docLinkHtml = 'Like what you see? Visit the ' +\n",
              "            '<a target=\"_blank\" href=https://colab.research.google.com/notebooks/data_table.ipynb>data table notebook</a>'\n",
              "            + ' to learn more about interactive tables.';\n",
              "          element.innerHTML = '';\n",
              "          dataTable['output_type'] = 'display_data';\n",
              "          await google.colab.output.renderOutput(dataTable, element);\n",
              "          const docLink = document.createElement('div');\n",
              "          docLink.innerHTML = docLinkHtml;\n",
              "          element.appendChild(docLink);\n",
              "        }\n",
              "      </script>\n",
              "    </div>\n",
              "  </div>\n",
              "  "
            ]
          },
          "metadata": {},
          "execution_count": 5
        }
      ]
    },
    {
      "cell_type": "markdown",
      "source": [
        "## **Limpeza e Tratamento dos dados**"
      ],
      "metadata": {
        "id": "_gh4IQIy4RSI"
      }
    },
    {
      "cell_type": "code",
      "source": [
        "#Retirando as colunas desnecessárias\n",
        "data_train = data_train.drop(columns = ['PassengerId','Name','Ticket','Cabin'])\n",
        "data_train.info()"
      ],
      "metadata": {
        "colab": {
          "base_uri": "https://localhost:8080/"
        },
        "id": "totPi8yl0RmW",
        "outputId": "22766915-7578-4f5b-fd6b-6043dbb218da"
      },
      "execution_count": 6,
      "outputs": [
        {
          "output_type": "stream",
          "name": "stdout",
          "text": [
            "<class 'pandas.core.frame.DataFrame'>\n",
            "RangeIndex: 891 entries, 0 to 890\n",
            "Data columns (total 8 columns):\n",
            " #   Column    Non-Null Count  Dtype  \n",
            "---  ------    --------------  -----  \n",
            " 0   Survived  891 non-null    int64  \n",
            " 1   Pclass    891 non-null    int64  \n",
            " 2   Sex       891 non-null    object \n",
            " 3   Age       714 non-null    float64\n",
            " 4   SibSp     891 non-null    int64  \n",
            " 5   Parch     891 non-null    int64  \n",
            " 6   Fare      891 non-null    float64\n",
            " 7   Embarked  889 non-null    object \n",
            "dtypes: float64(2), int64(4), object(2)\n",
            "memory usage: 55.8+ KB\n"
          ]
        }
      ]
    },
    {
      "cell_type": "code",
      "source": [
        "#Excluindo variáveis não numéricas\n",
        "data_train = data_train.dropna()\n",
        "data_train.shape"
      ],
      "metadata": {
        "colab": {
          "base_uri": "https://localhost:8080/"
        },
        "id": "UWI42gu805d-",
        "outputId": "d6224fde-7d40-413e-94a0-7b19892304ad"
      },
      "execution_count": 7,
      "outputs": [
        {
          "output_type": "execute_result",
          "data": {
            "text/plain": [
              "(712, 8)"
            ]
          },
          "metadata": {},
          "execution_count": 7
        }
      ]
    },
    {
      "cell_type": "code",
      "source": [
        "data_train.info()"
      ],
      "metadata": {
        "colab": {
          "base_uri": "https://localhost:8080/"
        },
        "id": "IhVpDPeW2CFQ",
        "outputId": "a7f7c5ec-a1cd-478a-f14c-dd5685300d9b"
      },
      "execution_count": 8,
      "outputs": [
        {
          "output_type": "stream",
          "name": "stdout",
          "text": [
            "<class 'pandas.core.frame.DataFrame'>\n",
            "Int64Index: 712 entries, 0 to 890\n",
            "Data columns (total 8 columns):\n",
            " #   Column    Non-Null Count  Dtype  \n",
            "---  ------    --------------  -----  \n",
            " 0   Survived  712 non-null    int64  \n",
            " 1   Pclass    712 non-null    int64  \n",
            " 2   Sex       712 non-null    object \n",
            " 3   Age       712 non-null    float64\n",
            " 4   SibSp     712 non-null    int64  \n",
            " 5   Parch     712 non-null    int64  \n",
            " 6   Fare      712 non-null    float64\n",
            " 7   Embarked  712 non-null    object \n",
            "dtypes: float64(2), int64(4), object(2)\n",
            "memory usage: 50.1+ KB\n"
          ]
        }
      ]
    },
    {
      "cell_type": "code",
      "source": [
        "#Pssíveis valores das variáveis categóricas passíveis de codificação\n",
        "print('Valore da coluna Embarked:', data_train['Embarked'].unique())\n",
        "print('Valores da coluna Sex:',data_train['Sex'].unique())"
      ],
      "metadata": {
        "colab": {
          "base_uri": "https://localhost:8080/"
        },
        "id": "WKEKGWkG2lIr",
        "outputId": "6b8c8eaa-2a9f-4a4a-9047-e3f550b18999"
      },
      "execution_count": 9,
      "outputs": [
        {
          "output_type": "stream",
          "name": "stdout",
          "text": [
            "Valore da coluna Embarked: ['S' 'C' 'Q']\n",
            "Valores da coluna Sex: ['male' 'female']\n"
          ]
        }
      ]
    },
    {
      "cell_type": "markdown",
      "source": [
        "### **Codificando as variáveis categóricas**"
      ],
      "metadata": {
        "id": "h2l84MCq40X-"
      }
    },
    {
      "cell_type": "code",
      "source": [
        "#One Hot Encoding\n",
        "!pip install category_encoders"
      ],
      "metadata": {
        "colab": {
          "base_uri": "https://localhost:8080/"
        },
        "id": "MLkryKvQ215J",
        "outputId": "d048947d-fa11-42f3-f24b-80c3776eea0b"
      },
      "execution_count": 10,
      "outputs": [
        {
          "output_type": "stream",
          "name": "stdout",
          "text": [
            "Looking in indexes: https://pypi.org/simple, https://us-python.pkg.dev/colab-wheels/public/simple/\n",
            "Collecting category_encoders\n",
            "  Downloading category_encoders-2.6.0-py2.py3-none-any.whl (81 kB)\n",
            "\u001b[2K     \u001b[90m━━━━━━━━━━━━━━━━━━━━━━━━━━━━━━━━━━━━━━━━\u001b[0m \u001b[32m81.2/81.2 kB\u001b[0m \u001b[31m3.4 MB/s\u001b[0m eta \u001b[36m0:00:00\u001b[0m\n",
            "\u001b[?25hRequirement already satisfied: numpy>=1.14.0 in /usr/local/lib/python3.10/dist-packages (from category_encoders) (1.22.4)\n",
            "Requirement already satisfied: pandas>=1.0.5 in /usr/local/lib/python3.10/dist-packages (from category_encoders) (1.5.3)\n",
            "Requirement already satisfied: statsmodels>=0.9.0 in /usr/local/lib/python3.10/dist-packages (from category_encoders) (0.13.5)\n",
            "Requirement already satisfied: scipy>=1.0.0 in /usr/local/lib/python3.10/dist-packages (from category_encoders) (1.10.1)\n",
            "Requirement already satisfied: patsy>=0.5.1 in /usr/local/lib/python3.10/dist-packages (from category_encoders) (0.5.3)\n",
            "Requirement already satisfied: scikit-learn>=0.20.0 in /usr/local/lib/python3.10/dist-packages (from category_encoders) (1.2.2)\n",
            "Requirement already satisfied: pytz>=2020.1 in /usr/local/lib/python3.10/dist-packages (from pandas>=1.0.5->category_encoders) (2022.7.1)\n",
            "Requirement already satisfied: python-dateutil>=2.8.1 in /usr/local/lib/python3.10/dist-packages (from pandas>=1.0.5->category_encoders) (2.8.2)\n",
            "Requirement already satisfied: six in /usr/local/lib/python3.10/dist-packages (from patsy>=0.5.1->category_encoders) (1.16.0)\n",
            "Requirement already satisfied: joblib>=1.1.1 in /usr/local/lib/python3.10/dist-packages (from scikit-learn>=0.20.0->category_encoders) (1.2.0)\n",
            "Requirement already satisfied: threadpoolctl>=2.0.0 in /usr/local/lib/python3.10/dist-packages (from scikit-learn>=0.20.0->category_encoders) (3.1.0)\n",
            "Requirement already satisfied: packaging>=21.3 in /usr/local/lib/python3.10/dist-packages (from statsmodels>=0.9.0->category_encoders) (23.1)\n",
            "Installing collected packages: category_encoders\n",
            "Successfully installed category_encoders-2.6.0\n"
          ]
        }
      ]
    },
    {
      "cell_type": "code",
      "source": [
        "import category_encoders as ce\n",
        "from category_encoders import OneHotEncoder"
      ],
      "metadata": {
        "id": "kXVB_6s-5D_w"
      },
      "execution_count": 11,
      "outputs": []
    },
    {
      "cell_type": "code",
      "source": [
        "#Parametrizando a função e codificando as variávies\n",
        "one_hot_enc = OneHotEncoder(cols = ['Sex', 'Embarked'])\n",
        "one_hot_enc.fit_transform(data_train)"
      ],
      "metadata": {
        "colab": {
          "base_uri": "https://localhost:8080/",
          "height": 423
        },
        "id": "IAtszpB15M1L",
        "outputId": "8a2bbb52-1ab3-4996-81de-a75ac434e3f0"
      },
      "execution_count": 12,
      "outputs": [
        {
          "output_type": "execute_result",
          "data": {
            "text/plain": [
              "     Survived  Pclass  Sex_1  Sex_2   Age  SibSp  Parch     Fare  Embarked_1  \\\n",
              "0           0       3      1      0  22.0      1      0   7.2500           1   \n",
              "1           1       1      0      1  38.0      1      0  71.2833           0   \n",
              "2           1       3      0      1  26.0      0      0   7.9250           1   \n",
              "3           1       1      0      1  35.0      1      0  53.1000           1   \n",
              "4           0       3      1      0  35.0      0      0   8.0500           1   \n",
              "..        ...     ...    ...    ...   ...    ...    ...      ...         ...   \n",
              "885         0       3      0      1  39.0      0      5  29.1250           0   \n",
              "886         0       2      1      0  27.0      0      0  13.0000           1   \n",
              "887         1       1      0      1  19.0      0      0  30.0000           1   \n",
              "889         1       1      1      0  26.0      0      0  30.0000           0   \n",
              "890         0       3      1      0  32.0      0      0   7.7500           0   \n",
              "\n",
              "     Embarked_2  Embarked_3  \n",
              "0             0           0  \n",
              "1             1           0  \n",
              "2             0           0  \n",
              "3             0           0  \n",
              "4             0           0  \n",
              "..          ...         ...  \n",
              "885           0           1  \n",
              "886           0           0  \n",
              "887           0           0  \n",
              "889           1           0  \n",
              "890           0           1  \n",
              "\n",
              "[712 rows x 11 columns]"
            ],
            "text/html": [
              "\n",
              "  <div id=\"df-0f808d4a-e1b4-46fb-bb97-e54aa88a1de5\">\n",
              "    <div class=\"colab-df-container\">\n",
              "      <div>\n",
              "<style scoped>\n",
              "    .dataframe tbody tr th:only-of-type {\n",
              "        vertical-align: middle;\n",
              "    }\n",
              "\n",
              "    .dataframe tbody tr th {\n",
              "        vertical-align: top;\n",
              "    }\n",
              "\n",
              "    .dataframe thead th {\n",
              "        text-align: right;\n",
              "    }\n",
              "</style>\n",
              "<table border=\"1\" class=\"dataframe\">\n",
              "  <thead>\n",
              "    <tr style=\"text-align: right;\">\n",
              "      <th></th>\n",
              "      <th>Survived</th>\n",
              "      <th>Pclass</th>\n",
              "      <th>Sex_1</th>\n",
              "      <th>Sex_2</th>\n",
              "      <th>Age</th>\n",
              "      <th>SibSp</th>\n",
              "      <th>Parch</th>\n",
              "      <th>Fare</th>\n",
              "      <th>Embarked_1</th>\n",
              "      <th>Embarked_2</th>\n",
              "      <th>Embarked_3</th>\n",
              "    </tr>\n",
              "  </thead>\n",
              "  <tbody>\n",
              "    <tr>\n",
              "      <th>0</th>\n",
              "      <td>0</td>\n",
              "      <td>3</td>\n",
              "      <td>1</td>\n",
              "      <td>0</td>\n",
              "      <td>22.0</td>\n",
              "      <td>1</td>\n",
              "      <td>0</td>\n",
              "      <td>7.2500</td>\n",
              "      <td>1</td>\n",
              "      <td>0</td>\n",
              "      <td>0</td>\n",
              "    </tr>\n",
              "    <tr>\n",
              "      <th>1</th>\n",
              "      <td>1</td>\n",
              "      <td>1</td>\n",
              "      <td>0</td>\n",
              "      <td>1</td>\n",
              "      <td>38.0</td>\n",
              "      <td>1</td>\n",
              "      <td>0</td>\n",
              "      <td>71.2833</td>\n",
              "      <td>0</td>\n",
              "      <td>1</td>\n",
              "      <td>0</td>\n",
              "    </tr>\n",
              "    <tr>\n",
              "      <th>2</th>\n",
              "      <td>1</td>\n",
              "      <td>3</td>\n",
              "      <td>0</td>\n",
              "      <td>1</td>\n",
              "      <td>26.0</td>\n",
              "      <td>0</td>\n",
              "      <td>0</td>\n",
              "      <td>7.9250</td>\n",
              "      <td>1</td>\n",
              "      <td>0</td>\n",
              "      <td>0</td>\n",
              "    </tr>\n",
              "    <tr>\n",
              "      <th>3</th>\n",
              "      <td>1</td>\n",
              "      <td>1</td>\n",
              "      <td>0</td>\n",
              "      <td>1</td>\n",
              "      <td>35.0</td>\n",
              "      <td>1</td>\n",
              "      <td>0</td>\n",
              "      <td>53.1000</td>\n",
              "      <td>1</td>\n",
              "      <td>0</td>\n",
              "      <td>0</td>\n",
              "    </tr>\n",
              "    <tr>\n",
              "      <th>4</th>\n",
              "      <td>0</td>\n",
              "      <td>3</td>\n",
              "      <td>1</td>\n",
              "      <td>0</td>\n",
              "      <td>35.0</td>\n",
              "      <td>0</td>\n",
              "      <td>0</td>\n",
              "      <td>8.0500</td>\n",
              "      <td>1</td>\n",
              "      <td>0</td>\n",
              "      <td>0</td>\n",
              "    </tr>\n",
              "    <tr>\n",
              "      <th>...</th>\n",
              "      <td>...</td>\n",
              "      <td>...</td>\n",
              "      <td>...</td>\n",
              "      <td>...</td>\n",
              "      <td>...</td>\n",
              "      <td>...</td>\n",
              "      <td>...</td>\n",
              "      <td>...</td>\n",
              "      <td>...</td>\n",
              "      <td>...</td>\n",
              "      <td>...</td>\n",
              "    </tr>\n",
              "    <tr>\n",
              "      <th>885</th>\n",
              "      <td>0</td>\n",
              "      <td>3</td>\n",
              "      <td>0</td>\n",
              "      <td>1</td>\n",
              "      <td>39.0</td>\n",
              "      <td>0</td>\n",
              "      <td>5</td>\n",
              "      <td>29.1250</td>\n",
              "      <td>0</td>\n",
              "      <td>0</td>\n",
              "      <td>1</td>\n",
              "    </tr>\n",
              "    <tr>\n",
              "      <th>886</th>\n",
              "      <td>0</td>\n",
              "      <td>2</td>\n",
              "      <td>1</td>\n",
              "      <td>0</td>\n",
              "      <td>27.0</td>\n",
              "      <td>0</td>\n",
              "      <td>0</td>\n",
              "      <td>13.0000</td>\n",
              "      <td>1</td>\n",
              "      <td>0</td>\n",
              "      <td>0</td>\n",
              "    </tr>\n",
              "    <tr>\n",
              "      <th>887</th>\n",
              "      <td>1</td>\n",
              "      <td>1</td>\n",
              "      <td>0</td>\n",
              "      <td>1</td>\n",
              "      <td>19.0</td>\n",
              "      <td>0</td>\n",
              "      <td>0</td>\n",
              "      <td>30.0000</td>\n",
              "      <td>1</td>\n",
              "      <td>0</td>\n",
              "      <td>0</td>\n",
              "    </tr>\n",
              "    <tr>\n",
              "      <th>889</th>\n",
              "      <td>1</td>\n",
              "      <td>1</td>\n",
              "      <td>1</td>\n",
              "      <td>0</td>\n",
              "      <td>26.0</td>\n",
              "      <td>0</td>\n",
              "      <td>0</td>\n",
              "      <td>30.0000</td>\n",
              "      <td>0</td>\n",
              "      <td>1</td>\n",
              "      <td>0</td>\n",
              "    </tr>\n",
              "    <tr>\n",
              "      <th>890</th>\n",
              "      <td>0</td>\n",
              "      <td>3</td>\n",
              "      <td>1</td>\n",
              "      <td>0</td>\n",
              "      <td>32.0</td>\n",
              "      <td>0</td>\n",
              "      <td>0</td>\n",
              "      <td>7.7500</td>\n",
              "      <td>0</td>\n",
              "      <td>0</td>\n",
              "      <td>1</td>\n",
              "    </tr>\n",
              "  </tbody>\n",
              "</table>\n",
              "<p>712 rows × 11 columns</p>\n",
              "</div>\n",
              "      <button class=\"colab-df-convert\" onclick=\"convertToInteractive('df-0f808d4a-e1b4-46fb-bb97-e54aa88a1de5')\"\n",
              "              title=\"Convert this dataframe to an interactive table.\"\n",
              "              style=\"display:none;\">\n",
              "        \n",
              "  <svg xmlns=\"http://www.w3.org/2000/svg\" height=\"24px\"viewBox=\"0 0 24 24\"\n",
              "       width=\"24px\">\n",
              "    <path d=\"M0 0h24v24H0V0z\" fill=\"none\"/>\n",
              "    <path d=\"M18.56 5.44l.94 2.06.94-2.06 2.06-.94-2.06-.94-.94-2.06-.94 2.06-2.06.94zm-11 1L8.5 8.5l.94-2.06 2.06-.94-2.06-.94L8.5 2.5l-.94 2.06-2.06.94zm10 10l.94 2.06.94-2.06 2.06-.94-2.06-.94-.94-2.06-.94 2.06-2.06.94z\"/><path d=\"M17.41 7.96l-1.37-1.37c-.4-.4-.92-.59-1.43-.59-.52 0-1.04.2-1.43.59L10.3 9.45l-7.72 7.72c-.78.78-.78 2.05 0 2.83L4 21.41c.39.39.9.59 1.41.59.51 0 1.02-.2 1.41-.59l7.78-7.78 2.81-2.81c.8-.78.8-2.07 0-2.86zM5.41 20L4 18.59l7.72-7.72 1.47 1.35L5.41 20z\"/>\n",
              "  </svg>\n",
              "      </button>\n",
              "      \n",
              "  <style>\n",
              "    .colab-df-container {\n",
              "      display:flex;\n",
              "      flex-wrap:wrap;\n",
              "      gap: 12px;\n",
              "    }\n",
              "\n",
              "    .colab-df-convert {\n",
              "      background-color: #E8F0FE;\n",
              "      border: none;\n",
              "      border-radius: 50%;\n",
              "      cursor: pointer;\n",
              "      display: none;\n",
              "      fill: #1967D2;\n",
              "      height: 32px;\n",
              "      padding: 0 0 0 0;\n",
              "      width: 32px;\n",
              "    }\n",
              "\n",
              "    .colab-df-convert:hover {\n",
              "      background-color: #E2EBFA;\n",
              "      box-shadow: 0px 1px 2px rgba(60, 64, 67, 0.3), 0px 1px 3px 1px rgba(60, 64, 67, 0.15);\n",
              "      fill: #174EA6;\n",
              "    }\n",
              "\n",
              "    [theme=dark] .colab-df-convert {\n",
              "      background-color: #3B4455;\n",
              "      fill: #D2E3FC;\n",
              "    }\n",
              "\n",
              "    [theme=dark] .colab-df-convert:hover {\n",
              "      background-color: #434B5C;\n",
              "      box-shadow: 0px 1px 3px 1px rgba(0, 0, 0, 0.15);\n",
              "      filter: drop-shadow(0px 1px 2px rgba(0, 0, 0, 0.3));\n",
              "      fill: #FFFFFF;\n",
              "    }\n",
              "  </style>\n",
              "\n",
              "      <script>\n",
              "        const buttonEl =\n",
              "          document.querySelector('#df-0f808d4a-e1b4-46fb-bb97-e54aa88a1de5 button.colab-df-convert');\n",
              "        buttonEl.style.display =\n",
              "          google.colab.kernel.accessAllowed ? 'block' : 'none';\n",
              "\n",
              "        async function convertToInteractive(key) {\n",
              "          const element = document.querySelector('#df-0f808d4a-e1b4-46fb-bb97-e54aa88a1de5');\n",
              "          const dataTable =\n",
              "            await google.colab.kernel.invokeFunction('convertToInteractive',\n",
              "                                                     [key], {});\n",
              "          if (!dataTable) return;\n",
              "\n",
              "          const docLinkHtml = 'Like what you see? Visit the ' +\n",
              "            '<a target=\"_blank\" href=https://colab.research.google.com/notebooks/data_table.ipynb>data table notebook</a>'\n",
              "            + ' to learn more about interactive tables.';\n",
              "          element.innerHTML = '';\n",
              "          dataTable['output_type'] = 'display_data';\n",
              "          await google.colab.output.renderOutput(dataTable, element);\n",
              "          const docLink = document.createElement('div');\n",
              "          docLink.innerHTML = docLinkHtml;\n",
              "          element.appendChild(docLink);\n",
              "        }\n",
              "      </script>\n",
              "    </div>\n",
              "  </div>\n",
              "  "
            ]
          },
          "metadata": {},
          "execution_count": 12
        }
      ]
    },
    {
      "cell_type": "code",
      "source": [
        "data_train = one_hot_enc.fit_transform(data_train)"
      ],
      "metadata": {
        "id": "63BSwNlQ6OcF"
      },
      "execution_count": 13,
      "outputs": []
    },
    {
      "cell_type": "code",
      "source": [
        "data_train.info()"
      ],
      "metadata": {
        "colab": {
          "base_uri": "https://localhost:8080/"
        },
        "id": "5mK0XhXr6Arn",
        "outputId": "0e718f59-550e-4158-c72e-5ecb21e738e2"
      },
      "execution_count": 14,
      "outputs": [
        {
          "output_type": "stream",
          "name": "stdout",
          "text": [
            "<class 'pandas.core.frame.DataFrame'>\n",
            "Int64Index: 712 entries, 0 to 890\n",
            "Data columns (total 11 columns):\n",
            " #   Column      Non-Null Count  Dtype  \n",
            "---  ------      --------------  -----  \n",
            " 0   Survived    712 non-null    int64  \n",
            " 1   Pclass      712 non-null    int64  \n",
            " 2   Sex_1       712 non-null    int64  \n",
            " 3   Sex_2       712 non-null    int64  \n",
            " 4   Age         712 non-null    float64\n",
            " 5   SibSp       712 non-null    int64  \n",
            " 6   Parch       712 non-null    int64  \n",
            " 7   Fare        712 non-null    float64\n",
            " 8   Embarked_1  712 non-null    int64  \n",
            " 9   Embarked_2  712 non-null    int64  \n",
            " 10  Embarked_3  712 non-null    int64  \n",
            "dtypes: float64(2), int64(9)\n",
            "memory usage: 66.8 KB\n"
          ]
        }
      ]
    },
    {
      "cell_type": "markdown",
      "source": [
        "### **Normalização**"
      ],
      "metadata": {
        "id": "y_rwTjjh6h_u"
      }
    },
    {
      "cell_type": "code",
      "source": [
        "x_data = data_train[list(data_train.columns[1:])]\n",
        "y_data = data_train['Survived']"
      ],
      "metadata": {
        "id": "i4LpHQM-DEAd"
      },
      "execution_count": 19,
      "outputs": []
    },
    {
      "cell_type": "code",
      "source": [
        "x_train = np.array(x_data)\n",
        "y_train = np.array(y_data)"
      ],
      "metadata": {
        "id": "h5-0XqNAYz2H"
      },
      "execution_count": 23,
      "outputs": []
    },
    {
      "cell_type": "code",
      "source": [
        "x_train, y_train[:9]"
      ],
      "metadata": {
        "colab": {
          "base_uri": "https://localhost:8080/"
        },
        "id": "bet2P12SaH6Z",
        "outputId": "65e67025-4f98-461e-a25e-bf96b70830c7"
      },
      "execution_count": 27,
      "outputs": [
        {
          "output_type": "execute_result",
          "data": {
            "text/plain": [
              "(array([[3., 1., 0., ..., 1., 0., 0.],\n",
              "        [1., 0., 1., ..., 0., 1., 0.],\n",
              "        [3., 0., 1., ..., 1., 0., 0.],\n",
              "        ...,\n",
              "        [1., 0., 1., ..., 1., 0., 0.],\n",
              "        [1., 1., 0., ..., 0., 1., 0.],\n",
              "        [3., 1., 0., ..., 0., 0., 1.]]),\n",
              " array([0, 1, 1, 1, 0, 0, 0, 1, 1]))"
            ]
          },
          "metadata": {},
          "execution_count": 27
        }
      ]
    },
    {
      "cell_type": "code",
      "source": [
        "norm = StandardScaler()"
      ],
      "metadata": {
        "id": "P56ly1sXZ5Xp"
      },
      "execution_count": 21,
      "outputs": []
    },
    {
      "cell_type": "code",
      "source": [
        "X_train = norm.fit_transform(x_train)\n",
        "X_train"
      ],
      "metadata": {
        "colab": {
          "base_uri": "https://localhost:8080/"
        },
        "id": "1nMc5pY2Z_nd",
        "outputId": "0c004eee-7a37-42fe-f6be-07769a3f7c01"
      },
      "execution_count": 28,
      "outputs": [
        {
          "output_type": "execute_result",
          "data": {
            "text/plain": [
              "array([[ 0.90859974,  0.75613751, -0.75613751, ...,  0.53403984,\n",
              "        -0.47261792, -0.20232566],\n",
              "       [-1.48298257, -1.32251077,  1.32251077, ..., -1.87251946,\n",
              "         2.11587407, -0.20232566],\n",
              "       [ 0.90859974, -1.32251077,  1.32251077, ...,  0.53403984,\n",
              "        -0.47261792, -0.20232566],\n",
              "       ...,\n",
              "       [-1.48298257, -1.32251077,  1.32251077, ...,  0.53403984,\n",
              "        -0.47261792, -0.20232566],\n",
              "       [-1.48298257,  0.75613751, -0.75613751, ..., -1.87251946,\n",
              "         2.11587407, -0.20232566],\n",
              "       [ 0.90859974,  0.75613751, -0.75613751, ..., -1.87251946,\n",
              "        -0.47261792,  4.94252683]])"
            ]
          },
          "metadata": {},
          "execution_count": 28
        }
      ]
    },
    {
      "cell_type": "markdown",
      "source": [
        "## **Treinamento do Regressor**"
      ],
      "metadata": {
        "id": "Xth6SUbnbMNg"
      }
    },
    {
      "cell_type": "code",
      "source": [
        "#Iniciando o modelo de Regressão Logística\n",
        "model1 = LogisticRegression()"
      ],
      "metadata": {
        "id": "TF-Egqxtakum"
      },
      "execution_count": 71,
      "outputs": []
    },
    {
      "cell_type": "code",
      "source": [
        "#treinando o modelo com os dados de treino\n",
        "model1.fit(X_train, y_train)"
      ],
      "metadata": {
        "colab": {
          "base_uri": "https://localhost:8080/",
          "height": 74
        },
        "id": "1jjCVIBubPqW",
        "outputId": "c0ab77ff-89d0-4950-b1eb-75e9ad32ba04"
      },
      "execution_count": 72,
      "outputs": [
        {
          "output_type": "execute_result",
          "data": {
            "text/plain": [
              "LogisticRegression()"
            ],
            "text/html": [
              "<style>#sk-container-id-2 {color: black;background-color: white;}#sk-container-id-2 pre{padding: 0;}#sk-container-id-2 div.sk-toggleable {background-color: white;}#sk-container-id-2 label.sk-toggleable__label {cursor: pointer;display: block;width: 100%;margin-bottom: 0;padding: 0.3em;box-sizing: border-box;text-align: center;}#sk-container-id-2 label.sk-toggleable__label-arrow:before {content: \"▸\";float: left;margin-right: 0.25em;color: #696969;}#sk-container-id-2 label.sk-toggleable__label-arrow:hover:before {color: black;}#sk-container-id-2 div.sk-estimator:hover label.sk-toggleable__label-arrow:before {color: black;}#sk-container-id-2 div.sk-toggleable__content {max-height: 0;max-width: 0;overflow: hidden;text-align: left;background-color: #f0f8ff;}#sk-container-id-2 div.sk-toggleable__content pre {margin: 0.2em;color: black;border-radius: 0.25em;background-color: #f0f8ff;}#sk-container-id-2 input.sk-toggleable__control:checked~div.sk-toggleable__content {max-height: 200px;max-width: 100%;overflow: auto;}#sk-container-id-2 input.sk-toggleable__control:checked~label.sk-toggleable__label-arrow:before {content: \"▾\";}#sk-container-id-2 div.sk-estimator input.sk-toggleable__control:checked~label.sk-toggleable__label {background-color: #d4ebff;}#sk-container-id-2 div.sk-label input.sk-toggleable__control:checked~label.sk-toggleable__label {background-color: #d4ebff;}#sk-container-id-2 input.sk-hidden--visually {border: 0;clip: rect(1px 1px 1px 1px);clip: rect(1px, 1px, 1px, 1px);height: 1px;margin: -1px;overflow: hidden;padding: 0;position: absolute;width: 1px;}#sk-container-id-2 div.sk-estimator {font-family: monospace;background-color: #f0f8ff;border: 1px dotted black;border-radius: 0.25em;box-sizing: border-box;margin-bottom: 0.5em;}#sk-container-id-2 div.sk-estimator:hover {background-color: #d4ebff;}#sk-container-id-2 div.sk-parallel-item::after {content: \"\";width: 100%;border-bottom: 1px solid gray;flex-grow: 1;}#sk-container-id-2 div.sk-label:hover label.sk-toggleable__label {background-color: #d4ebff;}#sk-container-id-2 div.sk-serial::before {content: \"\";position: absolute;border-left: 1px solid gray;box-sizing: border-box;top: 0;bottom: 0;left: 50%;z-index: 0;}#sk-container-id-2 div.sk-serial {display: flex;flex-direction: column;align-items: center;background-color: white;padding-right: 0.2em;padding-left: 0.2em;position: relative;}#sk-container-id-2 div.sk-item {position: relative;z-index: 1;}#sk-container-id-2 div.sk-parallel {display: flex;align-items: stretch;justify-content: center;background-color: white;position: relative;}#sk-container-id-2 div.sk-item::before, #sk-container-id-2 div.sk-parallel-item::before {content: \"\";position: absolute;border-left: 1px solid gray;box-sizing: border-box;top: 0;bottom: 0;left: 50%;z-index: -1;}#sk-container-id-2 div.sk-parallel-item {display: flex;flex-direction: column;z-index: 1;position: relative;background-color: white;}#sk-container-id-2 div.sk-parallel-item:first-child::after {align-self: flex-end;width: 50%;}#sk-container-id-2 div.sk-parallel-item:last-child::after {align-self: flex-start;width: 50%;}#sk-container-id-2 div.sk-parallel-item:only-child::after {width: 0;}#sk-container-id-2 div.sk-dashed-wrapped {border: 1px dashed gray;margin: 0 0.4em 0.5em 0.4em;box-sizing: border-box;padding-bottom: 0.4em;background-color: white;}#sk-container-id-2 div.sk-label label {font-family: monospace;font-weight: bold;display: inline-block;line-height: 1.2em;}#sk-container-id-2 div.sk-label-container {text-align: center;}#sk-container-id-2 div.sk-container {/* jupyter's `normalize.less` sets `[hidden] { display: none; }` but bootstrap.min.css set `[hidden] { display: none !important; }` so we also need the `!important` here to be able to override the default hidden behavior on the sphinx rendered scikit-learn.org. See: https://github.com/scikit-learn/scikit-learn/issues/21755 */display: inline-block !important;position: relative;}#sk-container-id-2 div.sk-text-repr-fallback {display: none;}</style><div id=\"sk-container-id-2\" class=\"sk-top-container\"><div class=\"sk-text-repr-fallback\"><pre>LogisticRegression()</pre><b>In a Jupyter environment, please rerun this cell to show the HTML representation or trust the notebook. <br />On GitHub, the HTML representation is unable to render, please try loading this page with nbviewer.org.</b></div><div class=\"sk-container\" hidden><div class=\"sk-item\"><div class=\"sk-estimator sk-toggleable\"><input class=\"sk-toggleable__control sk-hidden--visually\" id=\"sk-estimator-id-2\" type=\"checkbox\" checked><label for=\"sk-estimator-id-2\" class=\"sk-toggleable__label sk-toggleable__label-arrow\">LogisticRegression</label><div class=\"sk-toggleable__content\"><pre>LogisticRegression()</pre></div></div></div></div></div>"
            ]
          },
          "metadata": {},
          "execution_count": 72
        }
      ]
    },
    {
      "cell_type": "markdown",
      "source": [
        "## **Tratamento do conjunto de teste para a predição**"
      ],
      "metadata": {
        "id": "1ZHrC7IKcyF7"
      }
    },
    {
      "cell_type": "code",
      "source": [
        "data_test = pd.read_csv('test.csv')\n",
        "display(data_test)"
      ],
      "metadata": {
        "colab": {
          "base_uri": "https://localhost:8080/",
          "height": 423
        },
        "id": "rmEok-5fc3ON",
        "outputId": "6807232b-28cf-4a95-9fe3-c43ec74e6508"
      },
      "execution_count": 46,
      "outputs": [
        {
          "output_type": "display_data",
          "data": {
            "text/plain": [
              "     PassengerId  Pclass                                          Name  \\\n",
              "0            892       3                              Kelly, Mr. James   \n",
              "1            893       3              Wilkes, Mrs. James (Ellen Needs)   \n",
              "2            894       2                     Myles, Mr. Thomas Francis   \n",
              "3            895       3                              Wirz, Mr. Albert   \n",
              "4            896       3  Hirvonen, Mrs. Alexander (Helga E Lindqvist)   \n",
              "..           ...     ...                                           ...   \n",
              "413         1305       3                            Spector, Mr. Woolf   \n",
              "414         1306       1                  Oliva y Ocana, Dona. Fermina   \n",
              "415         1307       3                  Saether, Mr. Simon Sivertsen   \n",
              "416         1308       3                           Ware, Mr. Frederick   \n",
              "417         1309       3                      Peter, Master. Michael J   \n",
              "\n",
              "        Sex   Age  SibSp  Parch              Ticket      Fare Cabin Embarked  \n",
              "0      male  34.5      0      0              330911    7.8292   NaN        Q  \n",
              "1    female  47.0      1      0              363272    7.0000   NaN        S  \n",
              "2      male  62.0      0      0              240276    9.6875   NaN        Q  \n",
              "3      male  27.0      0      0              315154    8.6625   NaN        S  \n",
              "4    female  22.0      1      1             3101298   12.2875   NaN        S  \n",
              "..      ...   ...    ...    ...                 ...       ...   ...      ...  \n",
              "413    male   NaN      0      0           A.5. 3236    8.0500   NaN        S  \n",
              "414  female  39.0      0      0            PC 17758  108.9000  C105        C  \n",
              "415    male  38.5      0      0  SOTON/O.Q. 3101262    7.2500   NaN        S  \n",
              "416    male   NaN      0      0              359309    8.0500   NaN        S  \n",
              "417    male   NaN      1      1                2668   22.3583   NaN        C  \n",
              "\n",
              "[418 rows x 11 columns]"
            ],
            "text/html": [
              "\n",
              "  <div id=\"df-8ad3727c-2825-4b07-9f24-b5bd84a47e39\">\n",
              "    <div class=\"colab-df-container\">\n",
              "      <div>\n",
              "<style scoped>\n",
              "    .dataframe tbody tr th:only-of-type {\n",
              "        vertical-align: middle;\n",
              "    }\n",
              "\n",
              "    .dataframe tbody tr th {\n",
              "        vertical-align: top;\n",
              "    }\n",
              "\n",
              "    .dataframe thead th {\n",
              "        text-align: right;\n",
              "    }\n",
              "</style>\n",
              "<table border=\"1\" class=\"dataframe\">\n",
              "  <thead>\n",
              "    <tr style=\"text-align: right;\">\n",
              "      <th></th>\n",
              "      <th>PassengerId</th>\n",
              "      <th>Pclass</th>\n",
              "      <th>Name</th>\n",
              "      <th>Sex</th>\n",
              "      <th>Age</th>\n",
              "      <th>SibSp</th>\n",
              "      <th>Parch</th>\n",
              "      <th>Ticket</th>\n",
              "      <th>Fare</th>\n",
              "      <th>Cabin</th>\n",
              "      <th>Embarked</th>\n",
              "    </tr>\n",
              "  </thead>\n",
              "  <tbody>\n",
              "    <tr>\n",
              "      <th>0</th>\n",
              "      <td>892</td>\n",
              "      <td>3</td>\n",
              "      <td>Kelly, Mr. James</td>\n",
              "      <td>male</td>\n",
              "      <td>34.5</td>\n",
              "      <td>0</td>\n",
              "      <td>0</td>\n",
              "      <td>330911</td>\n",
              "      <td>7.8292</td>\n",
              "      <td>NaN</td>\n",
              "      <td>Q</td>\n",
              "    </tr>\n",
              "    <tr>\n",
              "      <th>1</th>\n",
              "      <td>893</td>\n",
              "      <td>3</td>\n",
              "      <td>Wilkes, Mrs. James (Ellen Needs)</td>\n",
              "      <td>female</td>\n",
              "      <td>47.0</td>\n",
              "      <td>1</td>\n",
              "      <td>0</td>\n",
              "      <td>363272</td>\n",
              "      <td>7.0000</td>\n",
              "      <td>NaN</td>\n",
              "      <td>S</td>\n",
              "    </tr>\n",
              "    <tr>\n",
              "      <th>2</th>\n",
              "      <td>894</td>\n",
              "      <td>2</td>\n",
              "      <td>Myles, Mr. Thomas Francis</td>\n",
              "      <td>male</td>\n",
              "      <td>62.0</td>\n",
              "      <td>0</td>\n",
              "      <td>0</td>\n",
              "      <td>240276</td>\n",
              "      <td>9.6875</td>\n",
              "      <td>NaN</td>\n",
              "      <td>Q</td>\n",
              "    </tr>\n",
              "    <tr>\n",
              "      <th>3</th>\n",
              "      <td>895</td>\n",
              "      <td>3</td>\n",
              "      <td>Wirz, Mr. Albert</td>\n",
              "      <td>male</td>\n",
              "      <td>27.0</td>\n",
              "      <td>0</td>\n",
              "      <td>0</td>\n",
              "      <td>315154</td>\n",
              "      <td>8.6625</td>\n",
              "      <td>NaN</td>\n",
              "      <td>S</td>\n",
              "    </tr>\n",
              "    <tr>\n",
              "      <th>4</th>\n",
              "      <td>896</td>\n",
              "      <td>3</td>\n",
              "      <td>Hirvonen, Mrs. Alexander (Helga E Lindqvist)</td>\n",
              "      <td>female</td>\n",
              "      <td>22.0</td>\n",
              "      <td>1</td>\n",
              "      <td>1</td>\n",
              "      <td>3101298</td>\n",
              "      <td>12.2875</td>\n",
              "      <td>NaN</td>\n",
              "      <td>S</td>\n",
              "    </tr>\n",
              "    <tr>\n",
              "      <th>...</th>\n",
              "      <td>...</td>\n",
              "      <td>...</td>\n",
              "      <td>...</td>\n",
              "      <td>...</td>\n",
              "      <td>...</td>\n",
              "      <td>...</td>\n",
              "      <td>...</td>\n",
              "      <td>...</td>\n",
              "      <td>...</td>\n",
              "      <td>...</td>\n",
              "      <td>...</td>\n",
              "    </tr>\n",
              "    <tr>\n",
              "      <th>413</th>\n",
              "      <td>1305</td>\n",
              "      <td>3</td>\n",
              "      <td>Spector, Mr. Woolf</td>\n",
              "      <td>male</td>\n",
              "      <td>NaN</td>\n",
              "      <td>0</td>\n",
              "      <td>0</td>\n",
              "      <td>A.5. 3236</td>\n",
              "      <td>8.0500</td>\n",
              "      <td>NaN</td>\n",
              "      <td>S</td>\n",
              "    </tr>\n",
              "    <tr>\n",
              "      <th>414</th>\n",
              "      <td>1306</td>\n",
              "      <td>1</td>\n",
              "      <td>Oliva y Ocana, Dona. Fermina</td>\n",
              "      <td>female</td>\n",
              "      <td>39.0</td>\n",
              "      <td>0</td>\n",
              "      <td>0</td>\n",
              "      <td>PC 17758</td>\n",
              "      <td>108.9000</td>\n",
              "      <td>C105</td>\n",
              "      <td>C</td>\n",
              "    </tr>\n",
              "    <tr>\n",
              "      <th>415</th>\n",
              "      <td>1307</td>\n",
              "      <td>3</td>\n",
              "      <td>Saether, Mr. Simon Sivertsen</td>\n",
              "      <td>male</td>\n",
              "      <td>38.5</td>\n",
              "      <td>0</td>\n",
              "      <td>0</td>\n",
              "      <td>SOTON/O.Q. 3101262</td>\n",
              "      <td>7.2500</td>\n",
              "      <td>NaN</td>\n",
              "      <td>S</td>\n",
              "    </tr>\n",
              "    <tr>\n",
              "      <th>416</th>\n",
              "      <td>1308</td>\n",
              "      <td>3</td>\n",
              "      <td>Ware, Mr. Frederick</td>\n",
              "      <td>male</td>\n",
              "      <td>NaN</td>\n",
              "      <td>0</td>\n",
              "      <td>0</td>\n",
              "      <td>359309</td>\n",
              "      <td>8.0500</td>\n",
              "      <td>NaN</td>\n",
              "      <td>S</td>\n",
              "    </tr>\n",
              "    <tr>\n",
              "      <th>417</th>\n",
              "      <td>1309</td>\n",
              "      <td>3</td>\n",
              "      <td>Peter, Master. Michael J</td>\n",
              "      <td>male</td>\n",
              "      <td>NaN</td>\n",
              "      <td>1</td>\n",
              "      <td>1</td>\n",
              "      <td>2668</td>\n",
              "      <td>22.3583</td>\n",
              "      <td>NaN</td>\n",
              "      <td>C</td>\n",
              "    </tr>\n",
              "  </tbody>\n",
              "</table>\n",
              "<p>418 rows × 11 columns</p>\n",
              "</div>\n",
              "      <button class=\"colab-df-convert\" onclick=\"convertToInteractive('df-8ad3727c-2825-4b07-9f24-b5bd84a47e39')\"\n",
              "              title=\"Convert this dataframe to an interactive table.\"\n",
              "              style=\"display:none;\">\n",
              "        \n",
              "  <svg xmlns=\"http://www.w3.org/2000/svg\" height=\"24px\"viewBox=\"0 0 24 24\"\n",
              "       width=\"24px\">\n",
              "    <path d=\"M0 0h24v24H0V0z\" fill=\"none\"/>\n",
              "    <path d=\"M18.56 5.44l.94 2.06.94-2.06 2.06-.94-2.06-.94-.94-2.06-.94 2.06-2.06.94zm-11 1L8.5 8.5l.94-2.06 2.06-.94-2.06-.94L8.5 2.5l-.94 2.06-2.06.94zm10 10l.94 2.06.94-2.06 2.06-.94-2.06-.94-.94-2.06-.94 2.06-2.06.94z\"/><path d=\"M17.41 7.96l-1.37-1.37c-.4-.4-.92-.59-1.43-.59-.52 0-1.04.2-1.43.59L10.3 9.45l-7.72 7.72c-.78.78-.78 2.05 0 2.83L4 21.41c.39.39.9.59 1.41.59.51 0 1.02-.2 1.41-.59l7.78-7.78 2.81-2.81c.8-.78.8-2.07 0-2.86zM5.41 20L4 18.59l7.72-7.72 1.47 1.35L5.41 20z\"/>\n",
              "  </svg>\n",
              "      </button>\n",
              "      \n",
              "  <style>\n",
              "    .colab-df-container {\n",
              "      display:flex;\n",
              "      flex-wrap:wrap;\n",
              "      gap: 12px;\n",
              "    }\n",
              "\n",
              "    .colab-df-convert {\n",
              "      background-color: #E8F0FE;\n",
              "      border: none;\n",
              "      border-radius: 50%;\n",
              "      cursor: pointer;\n",
              "      display: none;\n",
              "      fill: #1967D2;\n",
              "      height: 32px;\n",
              "      padding: 0 0 0 0;\n",
              "      width: 32px;\n",
              "    }\n",
              "\n",
              "    .colab-df-convert:hover {\n",
              "      background-color: #E2EBFA;\n",
              "      box-shadow: 0px 1px 2px rgba(60, 64, 67, 0.3), 0px 1px 3px 1px rgba(60, 64, 67, 0.15);\n",
              "      fill: #174EA6;\n",
              "    }\n",
              "\n",
              "    [theme=dark] .colab-df-convert {\n",
              "      background-color: #3B4455;\n",
              "      fill: #D2E3FC;\n",
              "    }\n",
              "\n",
              "    [theme=dark] .colab-df-convert:hover {\n",
              "      background-color: #434B5C;\n",
              "      box-shadow: 0px 1px 3px 1px rgba(0, 0, 0, 0.15);\n",
              "      filter: drop-shadow(0px 1px 2px rgba(0, 0, 0, 0.3));\n",
              "      fill: #FFFFFF;\n",
              "    }\n",
              "  </style>\n",
              "\n",
              "      <script>\n",
              "        const buttonEl =\n",
              "          document.querySelector('#df-8ad3727c-2825-4b07-9f24-b5bd84a47e39 button.colab-df-convert');\n",
              "        buttonEl.style.display =\n",
              "          google.colab.kernel.accessAllowed ? 'block' : 'none';\n",
              "\n",
              "        async function convertToInteractive(key) {\n",
              "          const element = document.querySelector('#df-8ad3727c-2825-4b07-9f24-b5bd84a47e39');\n",
              "          const dataTable =\n",
              "            await google.colab.kernel.invokeFunction('convertToInteractive',\n",
              "                                                     [key], {});\n",
              "          if (!dataTable) return;\n",
              "\n",
              "          const docLinkHtml = 'Like what you see? Visit the ' +\n",
              "            '<a target=\"_blank\" href=https://colab.research.google.com/notebooks/data_table.ipynb>data table notebook</a>'\n",
              "            + ' to learn more about interactive tables.';\n",
              "          element.innerHTML = '';\n",
              "          dataTable['output_type'] = 'display_data';\n",
              "          await google.colab.output.renderOutput(dataTable, element);\n",
              "          const docLink = document.createElement('div');\n",
              "          docLink.innerHTML = docLinkHtml;\n",
              "          element.appendChild(docLink);\n",
              "        }\n",
              "      </script>\n",
              "    </div>\n",
              "  </div>\n",
              "  "
            ]
          },
          "metadata": {}
        }
      ]
    },
    {
      "cell_type": "code",
      "source": [
        "#aplicando os mesmo tratamentos que o conjunto de treinamento\n",
        "#tirando as colunas desnecessárias\n",
        "data_test = data_test.drop(columns = ['Name','Ticket','Cabin'])"
      ],
      "metadata": {
        "id": "oiuPvjTbeFGU"
      },
      "execution_count": 47,
      "outputs": []
    },
    {
      "cell_type": "code",
      "source": [
        "data_test.info()"
      ],
      "metadata": {
        "colab": {
          "base_uri": "https://localhost:8080/"
        },
        "id": "u0l6_9JLjYO0",
        "outputId": "b1512750-d494-4261-fc00-ef998dc857f7"
      },
      "execution_count": 49,
      "outputs": [
        {
          "output_type": "stream",
          "name": "stdout",
          "text": [
            "<class 'pandas.core.frame.DataFrame'>\n",
            "RangeIndex: 418 entries, 0 to 417\n",
            "Data columns (total 8 columns):\n",
            " #   Column       Non-Null Count  Dtype  \n",
            "---  ------       --------------  -----  \n",
            " 0   PassengerId  418 non-null    int64  \n",
            " 1   Pclass       418 non-null    int64  \n",
            " 2   Sex          418 non-null    object \n",
            " 3   Age          332 non-null    float64\n",
            " 4   SibSp        418 non-null    int64  \n",
            " 5   Parch        418 non-null    int64  \n",
            " 6   Fare         417 non-null    float64\n",
            " 7   Embarked     418 non-null    object \n",
            "dtypes: float64(2), int64(4), object(2)\n",
            "memory usage: 26.2+ KB\n"
          ]
        }
      ]
    },
    {
      "cell_type": "code",
      "source": [
        "#substituindo valores Nan pelas médias das idades\n",
        "data_test = data_test.fillna(np.mean(data_test['Age']))\n",
        "data_test.info()"
      ],
      "metadata": {
        "colab": {
          "base_uri": "https://localhost:8080/"
        },
        "id": "9zBKMu_DfmnA",
        "outputId": "18f0429b-b8c1-426e-ee99-9c6e26547af2"
      },
      "execution_count": 52,
      "outputs": [
        {
          "output_type": "stream",
          "name": "stdout",
          "text": [
            "<class 'pandas.core.frame.DataFrame'>\n",
            "RangeIndex: 418 entries, 0 to 417\n",
            "Data columns (total 8 columns):\n",
            " #   Column       Non-Null Count  Dtype  \n",
            "---  ------       --------------  -----  \n",
            " 0   PassengerId  418 non-null    int64  \n",
            " 1   Pclass       418 non-null    int64  \n",
            " 2   Sex          418 non-null    object \n",
            " 3   Age          418 non-null    float64\n",
            " 4   SibSp        418 non-null    int64  \n",
            " 5   Parch        418 non-null    int64  \n",
            " 6   Fare         418 non-null    float64\n",
            " 7   Embarked     418 non-null    object \n",
            "dtypes: float64(2), int64(4), object(2)\n",
            "memory usage: 26.2+ KB\n"
          ]
        }
      ]
    },
    {
      "cell_type": "code",
      "source": [
        "#codificando variáveis categóricas\n",
        "one_hot_enc = OneHotEncoder(cols = ['Sex', 'Embarked'])\n",
        "one_hot_enc.fit_transform(data_test)\n",
        "data_test = one_hot_enc.fit_transform(data_test)\n",
        "\n",
        "data_test.info()"
      ],
      "metadata": {
        "colab": {
          "base_uri": "https://localhost:8080/"
        },
        "id": "_rrEvgatlSzz",
        "outputId": "c3e0c44c-c126-47da-d800-249e729851d5"
      },
      "execution_count": 57,
      "outputs": [
        {
          "output_type": "stream",
          "name": "stdout",
          "text": [
            "<class 'pandas.core.frame.DataFrame'>\n",
            "RangeIndex: 418 entries, 0 to 417\n",
            "Data columns (total 11 columns):\n",
            " #   Column       Non-Null Count  Dtype  \n",
            "---  ------       --------------  -----  \n",
            " 0   PassengerId  418 non-null    int64  \n",
            " 1   Pclass       418 non-null    int64  \n",
            " 2   Sex_1        418 non-null    int64  \n",
            " 3   Sex_2        418 non-null    int64  \n",
            " 4   Age          418 non-null    float64\n",
            " 5   SibSp        418 non-null    int64  \n",
            " 6   Parch        418 non-null    int64  \n",
            " 7   Fare         418 non-null    float64\n",
            " 8   Embarked_1   418 non-null    int64  \n",
            " 9   Embarked_2   418 non-null    int64  \n",
            " 10  Embarked_3   418 non-null    int64  \n",
            "dtypes: float64(2), int64(9)\n",
            "memory usage: 36.0 KB\n"
          ]
        }
      ]
    },
    {
      "cell_type": "code",
      "source": [
        "#normalização\n",
        "x_test = data_test[list(data_test.columns[1:])]\n",
        "x_test = np.array(x_test)\n",
        "\n",
        "X_test = norm.fit_transform(x_test)\n",
        "X_test"
      ],
      "metadata": {
        "colab": {
          "base_uri": "https://localhost:8080/"
        },
        "id": "urx628Tdfabs",
        "outputId": "31b23645-7124-45f3-c334-8c05f4453cf0"
      },
      "execution_count": 60,
      "outputs": [
        {
          "output_type": "execute_result",
          "data": {
            "text/plain": [
              "array([[ 0.87348191,  0.75592895, -0.75592895, ...,  2.84375747,\n",
              "        -1.35067551, -0.56814154],\n",
              "       [ 0.87348191, -1.32287566,  1.32287566, ..., -0.35164743,\n",
              "         0.74037028, -0.56814154],\n",
              "       [-0.31581919,  0.75592895, -0.75592895, ...,  2.84375747,\n",
              "        -1.35067551, -0.56814154],\n",
              "       ...,\n",
              "       [ 0.87348191,  0.75592895, -0.75592895, ..., -0.35164743,\n",
              "         0.74037028, -0.56814154],\n",
              "       [ 0.87348191,  0.75592895, -0.75592895, ..., -0.35164743,\n",
              "         0.74037028, -0.56814154],\n",
              "       [ 0.87348191,  0.75592895, -0.75592895, ..., -0.35164743,\n",
              "        -1.35067551,  1.76012477]])"
            ]
          },
          "metadata": {},
          "execution_count": 60
        }
      ]
    },
    {
      "cell_type": "markdown",
      "source": [
        "## **Predição**"
      ],
      "metadata": {
        "id": "zJUdjBQkkpGJ"
      }
    },
    {
      "cell_type": "code",
      "source": [
        "#predição dos dados de teste\n",
        "pred = model1.predict(X_test)\n",
        "pred"
      ],
      "metadata": {
        "colab": {
          "base_uri": "https://localhost:8080/"
        },
        "id": "1BZacxmdkx9R",
        "outputId": "8275030a-56a8-43a7-c286-6193a7438294"
      },
      "execution_count": 73,
      "outputs": [
        {
          "output_type": "execute_result",
          "data": {
            "text/plain": [
              "array([0, 0, 0, 0, 1, 0, 1, 0, 1, 0, 0, 0, 1, 0, 1, 1, 0, 0, 1, 0, 0, 0,\n",
              "       1, 1, 1, 0, 1, 0, 0, 0, 0, 0, 1, 1, 0, 0, 1, 1, 0, 0, 0, 1, 0, 1,\n",
              "       1, 0, 0, 0, 1, 1, 1, 0, 1, 1, 0, 0, 0, 0, 0, 1, 0, 0, 0, 1, 1, 1,\n",
              "       1, 0, 0, 1, 1, 0, 1, 0, 1, 1, 0, 1, 0, 1, 0, 0, 0, 0, 0, 0, 1, 1,\n",
              "       1, 1, 1, 0, 1, 0, 1, 0, 1, 0, 1, 0, 1, 0, 0, 0, 1, 0, 0, 0, 0, 0,\n",
              "       0, 1, 1, 1, 1, 0, 0, 1, 0, 1, 1, 0, 1, 0, 0, 1, 0, 0, 0, 0, 0, 0,\n",
              "       1, 0, 0, 0, 0, 0, 1, 0, 0, 1, 0, 0, 0, 0, 1, 0, 1, 0, 1, 0, 0, 1,\n",
              "       0, 0, 1, 1, 0, 1, 1, 0, 1, 0, 0, 1, 0, 0, 1, 1, 0, 0, 0, 0, 0, 1,\n",
              "       1, 0, 1, 1, 0, 0, 1, 0, 1, 0, 1, 0, 0, 0, 0, 1, 0, 0, 1, 0, 1, 1,\n",
              "       0, 1, 1, 0, 0, 1, 0, 0, 0, 0, 1, 0, 0, 0, 0, 0, 0, 0, 1, 0, 1, 0,\n",
              "       1, 0, 1, 0, 1, 1, 0, 1, 0, 0, 1, 1, 0, 0, 0, 0, 0, 0, 1, 1, 1, 1,\n",
              "       0, 0, 0, 0, 1, 0, 1, 0, 1, 0, 0, 0, 0, 0, 0, 0, 1, 0, 0, 0, 1, 1,\n",
              "       0, 0, 1, 0, 1, 0, 0, 0, 1, 0, 0, 1, 0, 0, 0, 0, 1, 0, 1, 1, 1, 0,\n",
              "       0, 1, 0, 0, 1, 1, 0, 0, 0, 0, 1, 0, 1, 0, 0, 0, 0, 0, 1, 1, 1, 0,\n",
              "       0, 0, 0, 0, 0, 0, 1, 1, 0, 0, 0, 0, 0, 0, 0, 1, 1, 0, 1, 0, 0, 0,\n",
              "       1, 0, 0, 1, 0, 1, 0, 0, 0, 0, 0, 0, 0, 1, 0, 1, 0, 0, 0, 1, 1, 0,\n",
              "       0, 0, 1, 0, 1, 0, 0, 1, 0, 1, 1, 0, 1, 0, 0, 1, 1, 0, 0, 1, 0, 0,\n",
              "       1, 1, 1, 0, 0, 0, 0, 0, 1, 1, 0, 1, 0, 0, 0, 0, 1, 1, 0, 0, 0, 1,\n",
              "       0, 1, 0, 0, 1, 0, 1, 1, 0, 0, 0, 0, 1, 1, 1, 1, 1, 0, 1, 0, 0, 0])"
            ]
          },
          "metadata": {},
          "execution_count": 73
        }
      ]
    },
    {
      "cell_type": "code",
      "source": [
        "dic = {\n",
        "    'PassengerId':list(data_test['PassengerId']),\n",
        "    'Survived':list(pred)\n",
        "    }\n",
        "\n",
        "doc_kaggle = pd.DataFrame(dic)\n",
        "\n",
        "doc_kaggle = doc_kaggle.set_index('PassengerId')"
      ],
      "metadata": {
        "colab": {
          "base_uri": "https://localhost:8080/",
          "height": 237
        },
        "id": "u7ZNawC5mcdz",
        "outputId": "902c0b3d-714e-4823-98be-56332d87a926"
      },
      "execution_count": 82,
      "outputs": [
        {
          "output_type": "execute_result",
          "data": {
            "text/plain": [
              "             Survived\n",
              "PassengerId          \n",
              "892                 0\n",
              "893                 0\n",
              "894                 0\n",
              "895                 0\n",
              "896                 1"
            ],
            "text/html": [
              "\n",
              "  <div id=\"df-32004486-ecc5-4814-997f-41d38d915c7a\">\n",
              "    <div class=\"colab-df-container\">\n",
              "      <div>\n",
              "<style scoped>\n",
              "    .dataframe tbody tr th:only-of-type {\n",
              "        vertical-align: middle;\n",
              "    }\n",
              "\n",
              "    .dataframe tbody tr th {\n",
              "        vertical-align: top;\n",
              "    }\n",
              "\n",
              "    .dataframe thead th {\n",
              "        text-align: right;\n",
              "    }\n",
              "</style>\n",
              "<table border=\"1\" class=\"dataframe\">\n",
              "  <thead>\n",
              "    <tr style=\"text-align: right;\">\n",
              "      <th></th>\n",
              "      <th>Survived</th>\n",
              "    </tr>\n",
              "    <tr>\n",
              "      <th>PassengerId</th>\n",
              "      <th></th>\n",
              "    </tr>\n",
              "  </thead>\n",
              "  <tbody>\n",
              "    <tr>\n",
              "      <th>892</th>\n",
              "      <td>0</td>\n",
              "    </tr>\n",
              "    <tr>\n",
              "      <th>893</th>\n",
              "      <td>0</td>\n",
              "    </tr>\n",
              "    <tr>\n",
              "      <th>894</th>\n",
              "      <td>0</td>\n",
              "    </tr>\n",
              "    <tr>\n",
              "      <th>895</th>\n",
              "      <td>0</td>\n",
              "    </tr>\n",
              "    <tr>\n",
              "      <th>896</th>\n",
              "      <td>1</td>\n",
              "    </tr>\n",
              "  </tbody>\n",
              "</table>\n",
              "</div>\n",
              "      <button class=\"colab-df-convert\" onclick=\"convertToInteractive('df-32004486-ecc5-4814-997f-41d38d915c7a')\"\n",
              "              title=\"Convert this dataframe to an interactive table.\"\n",
              "              style=\"display:none;\">\n",
              "        \n",
              "  <svg xmlns=\"http://www.w3.org/2000/svg\" height=\"24px\"viewBox=\"0 0 24 24\"\n",
              "       width=\"24px\">\n",
              "    <path d=\"M0 0h24v24H0V0z\" fill=\"none\"/>\n",
              "    <path d=\"M18.56 5.44l.94 2.06.94-2.06 2.06-.94-2.06-.94-.94-2.06-.94 2.06-2.06.94zm-11 1L8.5 8.5l.94-2.06 2.06-.94-2.06-.94L8.5 2.5l-.94 2.06-2.06.94zm10 10l.94 2.06.94-2.06 2.06-.94-2.06-.94-.94-2.06-.94 2.06-2.06.94z\"/><path d=\"M17.41 7.96l-1.37-1.37c-.4-.4-.92-.59-1.43-.59-.52 0-1.04.2-1.43.59L10.3 9.45l-7.72 7.72c-.78.78-.78 2.05 0 2.83L4 21.41c.39.39.9.59 1.41.59.51 0 1.02-.2 1.41-.59l7.78-7.78 2.81-2.81c.8-.78.8-2.07 0-2.86zM5.41 20L4 18.59l7.72-7.72 1.47 1.35L5.41 20z\"/>\n",
              "  </svg>\n",
              "      </button>\n",
              "      \n",
              "  <style>\n",
              "    .colab-df-container {\n",
              "      display:flex;\n",
              "      flex-wrap:wrap;\n",
              "      gap: 12px;\n",
              "    }\n",
              "\n",
              "    .colab-df-convert {\n",
              "      background-color: #E8F0FE;\n",
              "      border: none;\n",
              "      border-radius: 50%;\n",
              "      cursor: pointer;\n",
              "      display: none;\n",
              "      fill: #1967D2;\n",
              "      height: 32px;\n",
              "      padding: 0 0 0 0;\n",
              "      width: 32px;\n",
              "    }\n",
              "\n",
              "    .colab-df-convert:hover {\n",
              "      background-color: #E2EBFA;\n",
              "      box-shadow: 0px 1px 2px rgba(60, 64, 67, 0.3), 0px 1px 3px 1px rgba(60, 64, 67, 0.15);\n",
              "      fill: #174EA6;\n",
              "    }\n",
              "\n",
              "    [theme=dark] .colab-df-convert {\n",
              "      background-color: #3B4455;\n",
              "      fill: #D2E3FC;\n",
              "    }\n",
              "\n",
              "    [theme=dark] .colab-df-convert:hover {\n",
              "      background-color: #434B5C;\n",
              "      box-shadow: 0px 1px 3px 1px rgba(0, 0, 0, 0.15);\n",
              "      filter: drop-shadow(0px 1px 2px rgba(0, 0, 0, 0.3));\n",
              "      fill: #FFFFFF;\n",
              "    }\n",
              "  </style>\n",
              "\n",
              "      <script>\n",
              "        const buttonEl =\n",
              "          document.querySelector('#df-32004486-ecc5-4814-997f-41d38d915c7a button.colab-df-convert');\n",
              "        buttonEl.style.display =\n",
              "          google.colab.kernel.accessAllowed ? 'block' : 'none';\n",
              "\n",
              "        async function convertToInteractive(key) {\n",
              "          const element = document.querySelector('#df-32004486-ecc5-4814-997f-41d38d915c7a');\n",
              "          const dataTable =\n",
              "            await google.colab.kernel.invokeFunction('convertToInteractive',\n",
              "                                                     [key], {});\n",
              "          if (!dataTable) return;\n",
              "\n",
              "          const docLinkHtml = 'Like what you see? Visit the ' +\n",
              "            '<a target=\"_blank\" href=https://colab.research.google.com/notebooks/data_table.ipynb>data table notebook</a>'\n",
              "            + ' to learn more about interactive tables.';\n",
              "          element.innerHTML = '';\n",
              "          dataTable['output_type'] = 'display_data';\n",
              "          await google.colab.output.renderOutput(dataTable, element);\n",
              "          const docLink = document.createElement('div');\n",
              "          docLink.innerHTML = docLinkHtml;\n",
              "          element.appendChild(docLink);\n",
              "        }\n",
              "      </script>\n",
              "    </div>\n",
              "  </div>\n",
              "  "
            ]
          },
          "metadata": {},
          "execution_count": 82
        }
      ]
    },
    {
      "cell_type": "code",
      "source": [
        "from google.colab import files\n",
        "\n",
        "doc_kaggle.to_csv('predictions.csv')\n",
        "files.download('predictions.csv')"
      ],
      "metadata": {
        "colab": {
          "base_uri": "https://localhost:8080/",
          "height": 17
        },
        "id": "Ekuw7fhsgWjk",
        "outputId": "31c0ebc2-71a4-40ce-f3b1-e0f1b96e92c7"
      },
      "execution_count": 83,
      "outputs": [
        {
          "output_type": "display_data",
          "data": {
            "text/plain": [
              "<IPython.core.display.Javascript object>"
            ],
            "application/javascript": [
              "\n",
              "    async function download(id, filename, size) {\n",
              "      if (!google.colab.kernel.accessAllowed) {\n",
              "        return;\n",
              "      }\n",
              "      const div = document.createElement('div');\n",
              "      const label = document.createElement('label');\n",
              "      label.textContent = `Downloading \"${filename}\": `;\n",
              "      div.appendChild(label);\n",
              "      const progress = document.createElement('progress');\n",
              "      progress.max = size;\n",
              "      div.appendChild(progress);\n",
              "      document.body.appendChild(div);\n",
              "\n",
              "      const buffers = [];\n",
              "      let downloaded = 0;\n",
              "\n",
              "      const channel = await google.colab.kernel.comms.open(id);\n",
              "      // Send a message to notify the kernel that we're ready.\n",
              "      channel.send({})\n",
              "\n",
              "      for await (const message of channel.messages) {\n",
              "        // Send a message to notify the kernel that we're ready.\n",
              "        channel.send({})\n",
              "        if (message.buffers) {\n",
              "          for (const buffer of message.buffers) {\n",
              "            buffers.push(buffer);\n",
              "            downloaded += buffer.byteLength;\n",
              "            progress.value = downloaded;\n",
              "          }\n",
              "        }\n",
              "      }\n",
              "      const blob = new Blob(buffers, {type: 'application/binary'});\n",
              "      const a = document.createElement('a');\n",
              "      a.href = window.URL.createObjectURL(blob);\n",
              "      a.download = filename;\n",
              "      div.appendChild(a);\n",
              "      a.click();\n",
              "      div.remove();\n",
              "    }\n",
              "  "
            ]
          },
          "metadata": {}
        },
        {
          "output_type": "display_data",
          "data": {
            "text/plain": [
              "<IPython.core.display.Javascript object>"
            ],
            "application/javascript": [
              "download(\"download_9a04260a-f165-4db0-9b08-7e5ac3d9f817\", \"predictions.csv\", 2839)"
            ]
          },
          "metadata": {}
        }
      ]
    },
    {
      "cell_type": "markdown",
      "source": [
        "![image.png](data:image/png;base64,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)"
      ],
      "metadata": {
        "id": "9nUIMb_jtFHh"
      }
    },
    {
      "cell_type": "markdown",
      "source": [
        "![image.png](data:image/png;base64,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)"
      ],
      "metadata": {
        "id": "J3tZwMOLtJ6E"
      }
    }
  ]
}